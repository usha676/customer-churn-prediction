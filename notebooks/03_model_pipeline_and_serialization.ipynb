{
 "cells": [
  {
   "cell_type": "code",
   "execution_count": 11,
   "id": "0ad986b6-e15e-467a-ad7e-5f9364521e6a",
   "metadata": {},
   "outputs": [],
   "source": [
    "import pandas as pd\n",
    "import numpy as np\n",
    "\n",
    "# Load the dataset\n",
    "df = pd.read_csv(\"../data/WA_Fn-UseC_-Telco-Customer-Churn.csv\")\n",
    "\n",
    "# Clean 'TotalCharges': replace spaces with NaN, then convert to float\n",
    "df['TotalCharges'] = df['TotalCharges'].replace(' ', np.nan)\n",
    "df['TotalCharges'] = df['TotalCharges'].astype(float)\n",
    "\n",
    "# Drop rows with missing target or predictors (optional, if needed)\n",
    "df.dropna(subset=['TotalCharges'], inplace=True)\n",
    "\n",
    "# Define features and target\n",
    "X = df[['tenure', 'MonthlyCharges', 'TotalCharges', 'gender', 'InternetService', 'Contract', 'PaymentMethod']]\n",
    "y = df['Churn'].apply(lambda x: 1 if x == 'Yes' else 0)\n",
    "\n",
    "# Train/test split\n",
    "from sklearn.model_selection import train_test_split\n",
    "X_train, X_test, y_train, y_test = train_test_split(X, y, test_size=0.3, random_state=42)\n"
   ]
  },
  {
   "cell_type": "code",
   "execution_count": 14,
   "id": "a5c6669a-d4e0-4d34-a424-9fe5f5294d70",
   "metadata": {},
   "outputs": [
    {
     "name": "stdout",
     "output_type": "stream",
     "text": [
      "Accuracy: 0.7582938388625592\n"
     ]
    }
   ],
   "source": [
    "from sklearn.impute import SimpleImputer\n",
    "from sklearn.preprocessing import StandardScaler, OneHotEncoder\n",
    "from sklearn.compose import ColumnTransformer\n",
    "from sklearn.pipeline import Pipeline\n",
    "from sklearn.ensemble import RandomForestClassifier\n",
    "\n",
    "# Define columns\n",
    "numerical_features = ['tenure', 'MonthlyCharges', 'TotalCharges']\n",
    "categorical_features = ['gender', 'InternetService', 'Contract', 'PaymentMethod']\n",
    "\n",
    "# Pipelines\n",
    "numerical_pipeline = Pipeline(steps=[\n",
    "    ('imputer', SimpleImputer(strategy='mean')),\n",
    "    ('scaler', StandardScaler())\n",
    "])\n",
    "\n",
    "categorical_pipeline = Pipeline(steps=[\n",
    "    ('imputer', SimpleImputer(strategy='most_frequent')),\n",
    "    ('encoder', OneHotEncoder(handle_unknown='ignore'))\n",
    "])\n",
    "\n",
    "# ColumnTransformer\n",
    "preprocessor = ColumnTransformer(transformers=[\n",
    "    ('num', numerical_pipeline, numerical_features),\n",
    "    ('cat', categorical_pipeline, categorical_features)\n",
    "])\n",
    "\n",
    "# Final pipeline\n",
    "pipeline = Pipeline(steps=[\n",
    "    ('preprocessing', preprocessor),\n",
    "    ('classifier', RandomForestClassifier(n_estimators=100, random_state=42, class_weight='balanced'))\n",
    "])\n",
    "\n",
    "# Fit and evaluate\n",
    "pipeline.fit(X_train, y_train)\n",
    "print(\"Accuracy:\", pipeline.score(X_test, y_test))\n"
   ]
  },
  {
   "cell_type": "code",
   "execution_count": 15,
   "id": "eb28a348-02e8-41da-b1e7-624b0233bbf6",
   "metadata": {},
   "outputs": [
    {
     "name": "stdout",
     "output_type": "stream",
     "text": [
      "Classification Report:\n",
      "\n",
      "              precision    recall  f1-score   support\n",
      "\n",
      "           0       0.82      0.86      0.84      1549\n",
      "           1       0.55      0.48      0.51       561\n",
      "\n",
      "    accuracy                           0.76      2110\n",
      "   macro avg       0.69      0.67      0.68      2110\n",
      "weighted avg       0.75      0.76      0.75      2110\n",
      "\n"
     ]
    },
    {
     "data": {
      "text/plain": [
       "<sklearn.metrics._plot.confusion_matrix.ConfusionMatrixDisplay at 0x1f1628434d0>"
      ]
     },
     "execution_count": 15,
     "metadata": {},
     "output_type": "execute_result"
    },
    {
     "data": {
      "image/png": "[encoded data removed]",
      "text/plain": [
       "<Figure size 640x480 with 2 Axes>"
      ]
     },
     "metadata": {},
     "output_type": "display_data"
    }
   ],
   "source": [
    "from sklearn.metrics import classification_report, confusion_matrix, ConfusionMatrixDisplay\n",
    "\n",
    "# Predictions\n",
    "y_pred = pipeline.predict(X_test)\n",
    "\n",
    "# Classification report\n",
    "print(\"Classification Report:\\n\")\n",
    "print(classification_report(y_test, y_pred))\n",
    "\n",
    "# Confusion matrix\n",
    "cm = confusion_matrix(y_test, y_pred)\n",
    "disp = ConfusionMatrixDisplay(confusion_matrix=cm, display_labels=[\"No Churn\", \"Churn\"])\n",
    "disp.plot(cmap='Blues')\n"
   ]
  },
  {
   "cell_type": "code",
   "execution_count": 17,
   "id": "eacabca7-34b3-455f-ab09-682c935894f3",
   "metadata": {},
   "outputs": [],
   "source": [
    "import os\n",
    "\n",
    "# Create the models directory if it doesn't exist\n",
    "os.makedirs('../models', exist_ok=True)\n"
   ]
  },
  {
   "cell_type": "code",
   "execution_count": 18,
   "id": "e574ae01-9a0d-43d0-a613-1089cf8c7004",
   "metadata": {},
   "outputs": [
    {
     "name": "stdout",
     "output_type": "stream",
     "text": [
      "Model pipeline saved successfully!\n"
     ]
    }
   ],
   "source": [
    "import joblib\n",
    "\n",
    "# Save the trained pipeline\n",
    "joblib.dump(pipeline, '../models/churn_model_pipeline.pkl')\n",
    "\n",
    "print(\"Model pipeline saved successfully!\")\n"
   ]
  },
  {
   "cell_type": "code",
   "execution_count": null,
   "id": "5720ca6c-f687-4e54-8929-aaa2d6092478",
   "metadata": {},
   "outputs": [],
   "source": []
  }
 ],
 "metadata": {
  "kernelspec": {
   "display_name": "Python 3 (ipykernel)",
   "language": "python",
   "name": "python3"
  },
  "language_info": {
   "codemirror_mode": {
    "name": "ipython",
    "version": 3
   },
   "file_extension": ".py",
   "mimetype": "text/x-python",
   "name": "python",
   "nbconvert_exporter": "python",
   "pygments_lexer": "ipython3",
   "version": "3.13.2"
  }
 },
 "nbformat": 4,
 "nbformat_minor": 5
}
